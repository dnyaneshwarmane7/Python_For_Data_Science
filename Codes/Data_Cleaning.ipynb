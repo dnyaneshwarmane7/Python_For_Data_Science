{
 "cells": [
  {
   "cell_type": "markdown",
   "id": "8cce8a9f",
   "metadata": {},
   "source": [
    "## Importing necessary libraries"
   ]
  },
  {
   "cell_type": "code",
   "execution_count": 1,
   "id": "05957498",
   "metadata": {},
   "outputs": [],
   "source": [
    "import os\n",
    "import pandas as pd\n",
    "import numpy as np\n",
    "import matplotlib.pyplot as plt\n",
    "import seaborn as sns"
   ]
  },
  {
   "cell_type": "markdown",
   "id": "96f87cfa",
   "metadata": {},
   "source": [
    "##  Changing the working directory"
   ]
  },
  {
   "cell_type": "code",
   "execution_count": 2,
   "id": "6a24e4ed",
   "metadata": {},
   "outputs": [],
   "source": [
    "os.chdir(\"D:\\DM7\\Python for Data Science\\Data_Files\")"
   ]
  },
  {
   "cell_type": "markdown",
   "id": "485c0a52",
   "metadata": {},
   "source": [
    "## Importing data"
   ]
  },
  {
   "cell_type": "code",
   "execution_count": 3,
   "id": "62ccec45",
   "metadata": {},
   "outputs": [
    {
     "data": {
      "text/html": [
       "<div>\n",
       "<style scoped>\n",
       "    .dataframe tbody tr th:only-of-type {\n",
       "        vertical-align: middle;\n",
       "    }\n",
       "\n",
       "    .dataframe tbody tr th {\n",
       "        vertical-align: top;\n",
       "    }\n",
       "\n",
       "    .dataframe thead th {\n",
       "        text-align: right;\n",
       "    }\n",
       "</style>\n",
       "<table border=\"1\" class=\"dataframe\">\n",
       "  <thead>\n",
       "    <tr style=\"text-align: right;\">\n",
       "      <th></th>\n",
       "      <th>Price</th>\n",
       "      <th>Age</th>\n",
       "      <th>KM</th>\n",
       "      <th>FuelType</th>\n",
       "      <th>HP</th>\n",
       "      <th>MetColor</th>\n",
       "      <th>Automatic</th>\n",
       "      <th>CC</th>\n",
       "      <th>Doors</th>\n",
       "      <th>Weight</th>\n",
       "    </tr>\n",
       "  </thead>\n",
       "  <tbody>\n",
       "    <tr>\n",
       "      <th>0</th>\n",
       "      <td>13500</td>\n",
       "      <td>23.0</td>\n",
       "      <td>46986.0</td>\n",
       "      <td>Diesel</td>\n",
       "      <td>90.0</td>\n",
       "      <td>1.0</td>\n",
       "      <td>0</td>\n",
       "      <td>2000</td>\n",
       "      <td>three</td>\n",
       "      <td>1165</td>\n",
       "    </tr>\n",
       "    <tr>\n",
       "      <th>1</th>\n",
       "      <td>13750</td>\n",
       "      <td>23.0</td>\n",
       "      <td>72937.0</td>\n",
       "      <td>Diesel</td>\n",
       "      <td>90.0</td>\n",
       "      <td>1.0</td>\n",
       "      <td>0</td>\n",
       "      <td>2000</td>\n",
       "      <td>3</td>\n",
       "      <td>1165</td>\n",
       "    </tr>\n",
       "    <tr>\n",
       "      <th>2</th>\n",
       "      <td>13950</td>\n",
       "      <td>24.0</td>\n",
       "      <td>41711.0</td>\n",
       "      <td>Diesel</td>\n",
       "      <td>90.0</td>\n",
       "      <td>NaN</td>\n",
       "      <td>0</td>\n",
       "      <td>2000</td>\n",
       "      <td>3</td>\n",
       "      <td>1165</td>\n",
       "    </tr>\n",
       "    <tr>\n",
       "      <th>3</th>\n",
       "      <td>14950</td>\n",
       "      <td>26.0</td>\n",
       "      <td>48000.0</td>\n",
       "      <td>Diesel</td>\n",
       "      <td>90.0</td>\n",
       "      <td>0.0</td>\n",
       "      <td>0</td>\n",
       "      <td>2000</td>\n",
       "      <td>3</td>\n",
       "      <td>1165</td>\n",
       "    </tr>\n",
       "    <tr>\n",
       "      <th>4</th>\n",
       "      <td>13750</td>\n",
       "      <td>30.0</td>\n",
       "      <td>38500.0</td>\n",
       "      <td>Diesel</td>\n",
       "      <td>90.0</td>\n",
       "      <td>0.0</td>\n",
       "      <td>0</td>\n",
       "      <td>2000</td>\n",
       "      <td>3</td>\n",
       "      <td>1170</td>\n",
       "    </tr>\n",
       "  </tbody>\n",
       "</table>\n",
       "</div>"
      ],
      "text/plain": [
       "   Price   Age       KM FuelType    HP  MetColor  Automatic    CC  Doors  \\\n",
       "0  13500  23.0  46986.0   Diesel  90.0       1.0          0  2000  three   \n",
       "1  13750  23.0  72937.0   Diesel  90.0       1.0          0  2000      3   \n",
       "2  13950  24.0  41711.0   Diesel  90.0       NaN          0  2000      3   \n",
       "3  14950  26.0  48000.0   Diesel  90.0       0.0          0  2000      3   \n",
       "4  13750  30.0  38500.0   Diesel  90.0       0.0          0  2000      3   \n",
       "\n",
       "   Weight  \n",
       "0    1165  \n",
       "1    1165  \n",
       "2    1165  \n",
       "3    1165  \n",
       "4    1170  "
      ]
     },
     "execution_count": 3,
     "metadata": {},
     "output_type": "execute_result"
    }
   ],
   "source": [
    "cars_data = pd.read_csv('Toyota.csv', index_col=0, na_values=['??', '###','????'])\n",
    "cars_data.head()"
   ]
  },
  {
   "cell_type": "markdown",
   "id": "30680bf5",
   "metadata": {},
   "source": [
    "## Creating copy of original data"
   ]
  },
  {
   "cell_type": "markdown",
   "id": "4ceb9176",
   "metadata": {},
   "source": [
    "### In python there are two ways to create copy \n",
    "1. Shallow copy \n",
    "2. Deep copy"
   ]
  },
  {
   "cell_type": "code",
   "execution_count": 4,
   "id": "7cf6a24c",
   "metadata": {},
   "outputs": [],
   "source": [
    "# 1. Shallow copy\n",
    "cars_data2 = cars_data.copy(deep=False)\n",
    "\n",
    "# 2. Deep copy\n",
    "#cars_data2 = cars_data.copy(deep=True)"
   ]
  },
  {
   "cell_type": "markdown",
   "id": "a852b258",
   "metadata": {},
   "source": [
    "## Attributes of data"
   ]
  },
  {
   "cell_type": "markdown",
   "id": "0bd0bb08",
   "metadata": {},
   "source": [
    "###  To get the dimensionality of the dataframe"
   ]
  },
  {
   "cell_type": "code",
   "execution_count": 5,
   "id": "a49cc984",
   "metadata": {},
   "outputs": [
    {
     "data": {
      "text/plain": [
       "(1436, 10)"
      ]
     },
     "execution_count": 5,
     "metadata": {},
     "output_type": "execute_result"
    }
   ],
   "source": [
    "cars_data.shape"
   ]
  },
  {
   "cell_type": "markdown",
   "id": "6d96ecc5",
   "metadata": {},
   "source": [
    "### Concise summary of dataframe\n",
    "info() returns a concise summary of a \n",
    "dataframe"
   ]
  },
  {
   "cell_type": "code",
   "execution_count": 6,
   "id": "d0dfc517",
   "metadata": {},
   "outputs": [
    {
     "name": "stdout",
     "output_type": "stream",
     "text": [
      "<class 'pandas.core.frame.DataFrame'>\n",
      "Int64Index: 1436 entries, 0 to 1435\n",
      "Data columns (total 10 columns):\n",
      " #   Column     Non-Null Count  Dtype  \n",
      "---  ------     --------------  -----  \n",
      " 0   Price      1436 non-null   int64  \n",
      " 1   Age        1336 non-null   float64\n",
      " 2   KM         1421 non-null   float64\n",
      " 3   FuelType   1336 non-null   object \n",
      " 4   HP         1430 non-null   float64\n",
      " 5   MetColor   1286 non-null   float64\n",
      " 6   Automatic  1436 non-null   int64  \n",
      " 7   CC         1436 non-null   int64  \n",
      " 8   Doors      1436 non-null   object \n",
      " 9   Weight     1436 non-null   int64  \n",
      "dtypes: float64(4), int64(4), object(2)\n",
      "memory usage: 123.4+ KB\n"
     ]
    }
   ],
   "source": [
    "cars_data.info()"
   ]
  },
  {
   "cell_type": "markdown",
   "id": "3e7abbaa",
   "metadata": {},
   "source": [
    "### By using info(), we can see that\n",
    "1. ‘KM’ has been read as object instead of integer\n",
    "2. ‘HP’ has been read as object instead of integer\n",
    "3. ‘MetColor’ and ‘Automatic’ have been read as float64 and int64 respectively since it has values 0/1\n",
    "4. Ideally, ‘Doors’ should’ve been read as int64 since it has values 2, 3, 4, 5. But it has been read as object\n",
    "5. Missing values present in few variables"
   ]
  },
  {
   "cell_type": "markdown",
   "id": "67488ad8",
   "metadata": {},
   "source": [
    "## Data cleaning"
   ]
  },
  {
   "cell_type": "markdown",
   "id": "906ef150",
   "metadata": {},
   "source": [
    "### 1. Converting variables data types"
   ]
  },
  {
   "cell_type": "code",
   "execution_count": 7,
   "id": "d7286370",
   "metadata": {},
   "outputs": [
    {
     "name": "stdout",
     "output_type": "stream",
     "text": [
      "<class 'pandas.core.frame.DataFrame'>\n",
      "Int64Index: 1436 entries, 0 to 1435\n",
      "Data columns (total 10 columns):\n",
      " #   Column     Non-Null Count  Dtype  \n",
      "---  ------     --------------  -----  \n",
      " 0   Price      1436 non-null   int64  \n",
      " 1   Age        1336 non-null   float64\n",
      " 2   KM         1421 non-null   float64\n",
      " 3   FuelType   1336 non-null   object \n",
      " 4   HP         1430 non-null   float64\n",
      " 5   MetColor   1286 non-null   object \n",
      " 6   Automatic  1436 non-null   object \n",
      " 7   CC         1436 non-null   int64  \n",
      " 8   Doors      1436 non-null   object \n",
      " 9   Weight     1436 non-null   int64  \n",
      "dtypes: float64(3), int64(3), object(4)\n",
      "memory usage: 123.4+ KB\n"
     ]
    }
   ],
   "source": [
    "cars_data['MetColor'] = cars_data['MetColor'].astype('object')\n",
    "cars_data['Automatic'] = cars_data['Automatic'].astype('object')\n",
    "cars_data['KM'] = cars_data['KM'].astype('float64')\n",
    "cars_data['HP'] = cars_data['HP'].astype('float64')\n",
    "cars_data.info()"
   ]
  },
  {
   "cell_type": "markdown",
   "id": "3595545f",
   "metadata": {},
   "source": [
    "### 2. Cleaning column 'Doors'"
   ]
  },
  {
   "cell_type": "markdown",
   "id": "79610a04",
   "metadata": {},
   "source": [
    "<h>Checking unique values of variable ‘Doors’ :</h>"
   ]
  },
  {
   "cell_type": "code",
   "execution_count": 8,
   "id": "a2621d2f",
   "metadata": {
    "scrolled": true
   },
   "outputs": [
    {
     "name": "stdout",
     "output_type": "stream",
     "text": [
      "['2' '3' '4' '5' 'five' 'four' 'three']\n"
     ]
    }
   ],
   "source": [
    "print(np.unique(cars_data['Doors']))"
   ]
  },
  {
   "cell_type": "markdown",
   "id": "70502bc6",
   "metadata": {},
   "source": [
    "replace() is used to replace a value with the desired \n",
    "value"
   ]
  },
  {
   "cell_type": "code",
   "execution_count": 9,
   "id": "1173d708",
   "metadata": {},
   "outputs": [],
   "source": [
    "cars_data['Doors'].replace('five', 5, inplace=True)\n",
    "cars_data['Doors'].replace('four', 4, inplace=True)\n",
    "cars_data['Doors'].replace('three', 3, inplace=True)"
   ]
  },
  {
   "cell_type": "code",
   "execution_count": 10,
   "id": "2d95d608",
   "metadata": {},
   "outputs": [
    {
     "data": {
      "text/plain": [
       "Price          int64\n",
       "Age          float64\n",
       "KM           float64\n",
       "FuelType      object\n",
       "HP           float64\n",
       "MetColor      object\n",
       "Automatic     object\n",
       "CC             int64\n",
       "Doors          int64\n",
       "Weight         int64\n",
       "dtype: object"
      ]
     },
     "execution_count": 10,
     "metadata": {},
     "output_type": "execute_result"
    }
   ],
   "source": [
    "cars_data['Doors'] = cars_data['Doors'].astype('int64')\n",
    "\n",
    "# Checking changed data types of columns\n",
    "cars_data.dtypes"
   ]
  },
  {
   "cell_type": "markdown",
   "id": "62776732",
   "metadata": {},
   "source": [
    "## Identifying missing values"
   ]
  },
  {
   "cell_type": "markdown",
   "id": "760f426e",
   "metadata": {},
   "source": [
    "1. In Pandas dataframes, missing data is represented\n",
    "by NaN (an acronym for Not a Number)\n",
    "2. To check null values in Pandas dataframes,\n",
    "isnull() and isna() are used"
   ]
  },
  {
   "cell_type": "markdown",
   "id": "5f9b8339",
   "metadata": {},
   "source": [
    "To check the count of missing values present in each column"
   ]
  },
  {
   "cell_type": "code",
   "execution_count": 11,
   "id": "ac144894",
   "metadata": {},
   "outputs": [
    {
     "data": {
      "text/plain": [
       "Price          0\n",
       "Age          100\n",
       "KM            15\n",
       "FuelType     100\n",
       "HP             6\n",
       "MetColor     150\n",
       "Automatic      0\n",
       "CC             0\n",
       "Doors          0\n",
       "Weight         0\n",
       "dtype: int64"
      ]
     },
     "execution_count": 11,
     "metadata": {},
     "output_type": "execute_result"
    }
   ],
   "source": [
    "cars_data.isna().sum()\n",
    "#cars_data.isnull().sum()"
   ]
  },
  {
   "cell_type": "markdown",
   "id": "9c117dc7",
   "metadata": {},
   "source": [
    "Subsetting the rows that have one or more missing values"
   ]
  },
  {
   "cell_type": "code",
   "execution_count": 12,
   "id": "88f26125",
   "metadata": {},
   "outputs": [
    {
     "data": {
      "text/html": [
       "<div>\n",
       "<style scoped>\n",
       "    .dataframe tbody tr th:only-of-type {\n",
       "        vertical-align: middle;\n",
       "    }\n",
       "\n",
       "    .dataframe tbody tr th {\n",
       "        vertical-align: top;\n",
       "    }\n",
       "\n",
       "    .dataframe thead th {\n",
       "        text-align: right;\n",
       "    }\n",
       "</style>\n",
       "<table border=\"1\" class=\"dataframe\">\n",
       "  <thead>\n",
       "    <tr style=\"text-align: right;\">\n",
       "      <th></th>\n",
       "      <th>Price</th>\n",
       "      <th>Age</th>\n",
       "      <th>KM</th>\n",
       "      <th>FuelType</th>\n",
       "      <th>HP</th>\n",
       "      <th>MetColor</th>\n",
       "      <th>Automatic</th>\n",
       "      <th>CC</th>\n",
       "      <th>Doors</th>\n",
       "      <th>Weight</th>\n",
       "    </tr>\n",
       "  </thead>\n",
       "  <tbody>\n",
       "    <tr>\n",
       "      <th>2</th>\n",
       "      <td>13950</td>\n",
       "      <td>24.0</td>\n",
       "      <td>41711.0</td>\n",
       "      <td>Diesel</td>\n",
       "      <td>90.0</td>\n",
       "      <td>NaN</td>\n",
       "      <td>0</td>\n",
       "      <td>2000</td>\n",
       "      <td>3</td>\n",
       "      <td>1165</td>\n",
       "    </tr>\n",
       "    <tr>\n",
       "      <th>6</th>\n",
       "      <td>16900</td>\n",
       "      <td>27.0</td>\n",
       "      <td>NaN</td>\n",
       "      <td>Diesel</td>\n",
       "      <td>NaN</td>\n",
       "      <td>NaN</td>\n",
       "      <td>0</td>\n",
       "      <td>2000</td>\n",
       "      <td>3</td>\n",
       "      <td>1245</td>\n",
       "    </tr>\n",
       "    <tr>\n",
       "      <th>7</th>\n",
       "      <td>18600</td>\n",
       "      <td>30.0</td>\n",
       "      <td>75889.0</td>\n",
       "      <td>NaN</td>\n",
       "      <td>90.0</td>\n",
       "      <td>1.0</td>\n",
       "      <td>0</td>\n",
       "      <td>2000</td>\n",
       "      <td>3</td>\n",
       "      <td>1245</td>\n",
       "    </tr>\n",
       "    <tr>\n",
       "      <th>9</th>\n",
       "      <td>12950</td>\n",
       "      <td>23.0</td>\n",
       "      <td>71138.0</td>\n",
       "      <td>Diesel</td>\n",
       "      <td>NaN</td>\n",
       "      <td>NaN</td>\n",
       "      <td>0</td>\n",
       "      <td>1900</td>\n",
       "      <td>3</td>\n",
       "      <td>1105</td>\n",
       "    </tr>\n",
       "    <tr>\n",
       "      <th>15</th>\n",
       "      <td>22000</td>\n",
       "      <td>28.0</td>\n",
       "      <td>18739.0</td>\n",
       "      <td>Petrol</td>\n",
       "      <td>NaN</td>\n",
       "      <td>0.0</td>\n",
       "      <td>0</td>\n",
       "      <td>1800</td>\n",
       "      <td>3</td>\n",
       "      <td>1185</td>\n",
       "    </tr>\n",
       "    <tr>\n",
       "      <th>...</th>\n",
       "      <td>...</td>\n",
       "      <td>...</td>\n",
       "      <td>...</td>\n",
       "      <td>...</td>\n",
       "      <td>...</td>\n",
       "      <td>...</td>\n",
       "      <td>...</td>\n",
       "      <td>...</td>\n",
       "      <td>...</td>\n",
       "      <td>...</td>\n",
       "    </tr>\n",
       "    <tr>\n",
       "      <th>1428</th>\n",
       "      <td>8450</td>\n",
       "      <td>72.0</td>\n",
       "      <td>NaN</td>\n",
       "      <td>Petrol</td>\n",
       "      <td>86.0</td>\n",
       "      <td>NaN</td>\n",
       "      <td>0</td>\n",
       "      <td>1300</td>\n",
       "      <td>3</td>\n",
       "      <td>1015</td>\n",
       "    </tr>\n",
       "    <tr>\n",
       "      <th>1431</th>\n",
       "      <td>7500</td>\n",
       "      <td>NaN</td>\n",
       "      <td>20544.0</td>\n",
       "      <td>Petrol</td>\n",
       "      <td>86.0</td>\n",
       "      <td>1.0</td>\n",
       "      <td>0</td>\n",
       "      <td>1300</td>\n",
       "      <td>3</td>\n",
       "      <td>1025</td>\n",
       "    </tr>\n",
       "    <tr>\n",
       "      <th>1432</th>\n",
       "      <td>10845</td>\n",
       "      <td>72.0</td>\n",
       "      <td>NaN</td>\n",
       "      <td>Petrol</td>\n",
       "      <td>86.0</td>\n",
       "      <td>0.0</td>\n",
       "      <td>0</td>\n",
       "      <td>1300</td>\n",
       "      <td>3</td>\n",
       "      <td>1015</td>\n",
       "    </tr>\n",
       "    <tr>\n",
       "      <th>1433</th>\n",
       "      <td>8500</td>\n",
       "      <td>NaN</td>\n",
       "      <td>17016.0</td>\n",
       "      <td>Petrol</td>\n",
       "      <td>86.0</td>\n",
       "      <td>0.0</td>\n",
       "      <td>0</td>\n",
       "      <td>1300</td>\n",
       "      <td>3</td>\n",
       "      <td>1015</td>\n",
       "    </tr>\n",
       "    <tr>\n",
       "      <th>1434</th>\n",
       "      <td>7250</td>\n",
       "      <td>70.0</td>\n",
       "      <td>NaN</td>\n",
       "      <td>NaN</td>\n",
       "      <td>86.0</td>\n",
       "      <td>1.0</td>\n",
       "      <td>0</td>\n",
       "      <td>1300</td>\n",
       "      <td>3</td>\n",
       "      <td>1015</td>\n",
       "    </tr>\n",
       "  </tbody>\n",
       "</table>\n",
       "<p>340 rows × 10 columns</p>\n",
       "</div>"
      ],
      "text/plain": [
       "      Price   Age       KM FuelType    HP MetColor Automatic    CC  Doors  \\\n",
       "2     13950  24.0  41711.0   Diesel  90.0      NaN         0  2000      3   \n",
       "6     16900  27.0      NaN   Diesel   NaN      NaN         0  2000      3   \n",
       "7     18600  30.0  75889.0      NaN  90.0      1.0         0  2000      3   \n",
       "9     12950  23.0  71138.0   Diesel   NaN      NaN         0  1900      3   \n",
       "15    22000  28.0  18739.0   Petrol   NaN      0.0         0  1800      3   \n",
       "...     ...   ...      ...      ...   ...      ...       ...   ...    ...   \n",
       "1428   8450  72.0      NaN   Petrol  86.0      NaN         0  1300      3   \n",
       "1431   7500   NaN  20544.0   Petrol  86.0      1.0         0  1300      3   \n",
       "1432  10845  72.0      NaN   Petrol  86.0      0.0         0  1300      3   \n",
       "1433   8500   NaN  17016.0   Petrol  86.0      0.0         0  1300      3   \n",
       "1434   7250  70.0      NaN      NaN  86.0      1.0         0  1300      3   \n",
       "\n",
       "      Weight  \n",
       "2       1165  \n",
       "6       1245  \n",
       "7       1245  \n",
       "9       1105  \n",
       "15      1185  \n",
       "...      ...  \n",
       "1428    1015  \n",
       "1431    1025  \n",
       "1432    1015  \n",
       "1433    1015  \n",
       "1434    1015  \n",
       "\n",
       "[340 rows x 10 columns]"
      ]
     },
     "execution_count": 12,
     "metadata": {},
     "output_type": "execute_result"
    }
   ],
   "source": [
    "missing = cars_data[cars_data.isnull().any(axis=1)]\n",
    "missing"
   ]
  },
  {
   "cell_type": "markdown",
   "id": "c22436c2",
   "metadata": {},
   "source": [
    "## Approaches to fill the missing values\n",
    "1. Fill the missing value by mean/ median, in case of numerical value\n",
    "2. Fill the missing values with the class which has maximum count, in case of categorical variable"
   ]
  },
  {
   "cell_type": "markdown",
   "id": "03d5f217",
   "metadata": {},
   "source": [
    "### Imputing missing values\n",
    "describe() Generate descriptive statistics that summarize the\n",
    "central tendency, dispersion and shape of a dataset’s\n",
    "distribution, excluding NaN values\n"
   ]
  },
  {
   "cell_type": "code",
   "execution_count": 13,
   "id": "2bc726db",
   "metadata": {},
   "outputs": [
    {
     "data": {
      "text/html": [
       "<div>\n",
       "<style scoped>\n",
       "    .dataframe tbody tr th:only-of-type {\n",
       "        vertical-align: middle;\n",
       "    }\n",
       "\n",
       "    .dataframe tbody tr th {\n",
       "        vertical-align: top;\n",
       "    }\n",
       "\n",
       "    .dataframe thead th {\n",
       "        text-align: right;\n",
       "    }\n",
       "</style>\n",
       "<table border=\"1\" class=\"dataframe\">\n",
       "  <thead>\n",
       "    <tr style=\"text-align: right;\">\n",
       "      <th></th>\n",
       "      <th>Price</th>\n",
       "      <th>Age</th>\n",
       "      <th>KM</th>\n",
       "      <th>HP</th>\n",
       "      <th>CC</th>\n",
       "      <th>Doors</th>\n",
       "      <th>Weight</th>\n",
       "    </tr>\n",
       "  </thead>\n",
       "  <tbody>\n",
       "    <tr>\n",
       "      <th>count</th>\n",
       "      <td>1436.000000</td>\n",
       "      <td>1336.000000</td>\n",
       "      <td>1421.000000</td>\n",
       "      <td>1430.000000</td>\n",
       "      <td>1436.000000</td>\n",
       "      <td>1436.000000</td>\n",
       "      <td>1436.00000</td>\n",
       "    </tr>\n",
       "    <tr>\n",
       "      <th>mean</th>\n",
       "      <td>10730.824513</td>\n",
       "      <td>55.672156</td>\n",
       "      <td>68647.239972</td>\n",
       "      <td>101.478322</td>\n",
       "      <td>1566.827994</td>\n",
       "      <td>4.033426</td>\n",
       "      <td>1072.45961</td>\n",
       "    </tr>\n",
       "    <tr>\n",
       "      <th>std</th>\n",
       "      <td>3626.964585</td>\n",
       "      <td>18.589804</td>\n",
       "      <td>37333.023589</td>\n",
       "      <td>14.768255</td>\n",
       "      <td>187.182436</td>\n",
       "      <td>0.952677</td>\n",
       "      <td>52.64112</td>\n",
       "    </tr>\n",
       "    <tr>\n",
       "      <th>min</th>\n",
       "      <td>4350.000000</td>\n",
       "      <td>1.000000</td>\n",
       "      <td>1.000000</td>\n",
       "      <td>69.000000</td>\n",
       "      <td>1300.000000</td>\n",
       "      <td>2.000000</td>\n",
       "      <td>1000.00000</td>\n",
       "    </tr>\n",
       "    <tr>\n",
       "      <th>25%</th>\n",
       "      <td>8450.000000</td>\n",
       "      <td>43.000000</td>\n",
       "      <td>43210.000000</td>\n",
       "      <td>90.000000</td>\n",
       "      <td>1400.000000</td>\n",
       "      <td>3.000000</td>\n",
       "      <td>1040.00000</td>\n",
       "    </tr>\n",
       "    <tr>\n",
       "      <th>50%</th>\n",
       "      <td>9900.000000</td>\n",
       "      <td>60.000000</td>\n",
       "      <td>63634.000000</td>\n",
       "      <td>110.000000</td>\n",
       "      <td>1600.000000</td>\n",
       "      <td>4.000000</td>\n",
       "      <td>1070.00000</td>\n",
       "    </tr>\n",
       "    <tr>\n",
       "      <th>75%</th>\n",
       "      <td>11950.000000</td>\n",
       "      <td>70.000000</td>\n",
       "      <td>87000.000000</td>\n",
       "      <td>110.000000</td>\n",
       "      <td>1600.000000</td>\n",
       "      <td>5.000000</td>\n",
       "      <td>1085.00000</td>\n",
       "    </tr>\n",
       "    <tr>\n",
       "      <th>max</th>\n",
       "      <td>32500.000000</td>\n",
       "      <td>80.000000</td>\n",
       "      <td>243000.000000</td>\n",
       "      <td>192.000000</td>\n",
       "      <td>2000.000000</td>\n",
       "      <td>5.000000</td>\n",
       "      <td>1615.00000</td>\n",
       "    </tr>\n",
       "  </tbody>\n",
       "</table>\n",
       "</div>"
      ],
      "text/plain": [
       "              Price          Age             KM           HP           CC  \\\n",
       "count   1436.000000  1336.000000    1421.000000  1430.000000  1436.000000   \n",
       "mean   10730.824513    55.672156   68647.239972   101.478322  1566.827994   \n",
       "std     3626.964585    18.589804   37333.023589    14.768255   187.182436   \n",
       "min     4350.000000     1.000000       1.000000    69.000000  1300.000000   \n",
       "25%     8450.000000    43.000000   43210.000000    90.000000  1400.000000   \n",
       "50%     9900.000000    60.000000   63634.000000   110.000000  1600.000000   \n",
       "75%    11950.000000    70.000000   87000.000000   110.000000  1600.000000   \n",
       "max    32500.000000    80.000000  243000.000000   192.000000  2000.000000   \n",
       "\n",
       "             Doors      Weight  \n",
       "count  1436.000000  1436.00000  \n",
       "mean      4.033426  1072.45961  \n",
       "std       0.952677    52.64112  \n",
       "min       2.000000  1000.00000  \n",
       "25%       3.000000  1040.00000  \n",
       "50%       4.000000  1070.00000  \n",
       "75%       5.000000  1085.00000  \n",
       "max       5.000000  1615.00000  "
      ]
     },
     "execution_count": 13,
     "metadata": {},
     "output_type": "execute_result"
    }
   ],
   "source": [
    "cars_data.describe()"
   ]
  },
  {
   "cell_type": "markdown",
   "id": "73499ad4",
   "metadata": {},
   "source": [
    "## 1. Imputing missing values of ‘Age’"
   ]
  },
  {
   "cell_type": "markdown",
   "id": "b946a57e",
   "metadata": {},
   "source": [
    "• Calculating the mean value of the Age variable"
   ]
  },
  {
   "cell_type": "code",
   "execution_count": 14,
   "id": "2cec0309",
   "metadata": {},
   "outputs": [
    {
     "data": {
      "text/plain": [
       "55.67215568862275"
      ]
     },
     "execution_count": 14,
     "metadata": {},
     "output_type": "execute_result"
    }
   ],
   "source": [
    "cars_data['Age'].mean()"
   ]
  },
  {
   "cell_type": "markdown",
   "id": "bdbffacd",
   "metadata": {},
   "source": [
    "• To fill NA/NaN values using the specified value"
   ]
  },
  {
   "cell_type": "code",
   "execution_count": 15,
   "id": "fa3da102",
   "metadata": {},
   "outputs": [],
   "source": [
    "cars_data['Age'].fillna(cars_data['Age'].mean(), inplace = True)"
   ]
  },
  {
   "cell_type": "markdown",
   "id": "c01aecc8",
   "metadata": {},
   "source": [
    "## 2. Imputing missing values of 'KM'"
   ]
  },
  {
   "cell_type": "markdown",
   "id": "a2ddc503",
   "metadata": {},
   "source": [
    "Calculating the median value of the KM variable"
   ]
  },
  {
   "cell_type": "code",
   "execution_count": 16,
   "id": "454f3b47",
   "metadata": {},
   "outputs": [
    {
     "data": {
      "text/plain": [
       "63634.0"
      ]
     },
     "execution_count": 16,
     "metadata": {},
     "output_type": "execute_result"
    }
   ],
   "source": [
    "cars_data['KM'].median()"
   ]
  },
  {
   "cell_type": "markdown",
   "id": "cd4b30cb",
   "metadata": {},
   "source": [
    "To fill NA/NaN values using the specified value"
   ]
  },
  {
   "cell_type": "code",
   "execution_count": 17,
   "id": "71518a76",
   "metadata": {},
   "outputs": [],
   "source": [
    "cars_data['KM'].fillna(cars_data['KM'].median(), inplace = True)"
   ]
  },
  {
   "cell_type": "markdown",
   "id": "9bc2cdc6",
   "metadata": {},
   "source": [
    "## 3. Imputing missing values of ‘HP’"
   ]
  },
  {
   "cell_type": "markdown",
   "id": "b21dc0e4",
   "metadata": {},
   "source": [
    "Calculating the mean value of the HP variable"
   ]
  },
  {
   "cell_type": "code",
   "execution_count": 18,
   "id": "2c72b037",
   "metadata": {},
   "outputs": [
    {
     "data": {
      "text/plain": [
       "101.47832167832168"
      ]
     },
     "execution_count": 18,
     "metadata": {},
     "output_type": "execute_result"
    }
   ],
   "source": [
    "cars_data['HP'].mean()"
   ]
  },
  {
   "cell_type": "markdown",
   "id": "5251ea63",
   "metadata": {},
   "source": [
    "To fill NA/NaN values using the specified value"
   ]
  },
  {
   "cell_type": "code",
   "execution_count": 19,
   "id": "da343e5b",
   "metadata": {},
   "outputs": [],
   "source": [
    "cars_data['HP'].fillna(cars_data['HP'].mean(), inplace = True)"
   ]
  },
  {
   "cell_type": "markdown",
   "id": "864b92bb",
   "metadata": {},
   "source": [
    "Check for missing data after filling values"
   ]
  },
  {
   "cell_type": "code",
   "execution_count": 20,
   "id": "12fde702",
   "metadata": {},
   "outputs": [
    {
     "data": {
      "text/plain": [
       "Price          0\n",
       "Age            0\n",
       "KM             0\n",
       "FuelType     100\n",
       "HP             0\n",
       "MetColor     150\n",
       "Automatic      0\n",
       "CC             0\n",
       "Doors          0\n",
       "Weight         0\n",
       "dtype: int64"
      ]
     },
     "execution_count": 20,
     "metadata": {},
     "output_type": "execute_result"
    }
   ],
   "source": [
    "cars_data.isnull().sum()"
   ]
  },
  {
   "cell_type": "markdown",
   "id": "6ddd036c",
   "metadata": {},
   "source": [
    "## 4. Imputing missing values of ‘FuelType’"
   ]
  },
  {
   "cell_type": "markdown",
   "id": "df16f37c",
   "metadata": {},
   "source": [
    "value_counts()\n",
    "1. Returns a Series containing counts of unique values\n",
    "2. The values will be in descending order so that the \n",
    "first element is the most frequently-occurring \n",
    "element\n",
    "3. Excludes NA values by default"
   ]
  },
  {
   "cell_type": "markdown",
   "id": "68a3064f",
   "metadata": {},
   "source": [
    "To get the mode value of FuelType"
   ]
  },
  {
   "cell_type": "code",
   "execution_count": 21,
   "id": "8c3393e3",
   "metadata": {},
   "outputs": [
    {
     "data": {
      "text/plain": [
       "'Petrol'"
      ]
     },
     "execution_count": 21,
     "metadata": {},
     "output_type": "execute_result"
    }
   ],
   "source": [
    "cars_data['FuelType'].value_counts().index[0]"
   ]
  },
  {
   "cell_type": "markdown",
   "id": "60dc5aa9",
   "metadata": {},
   "source": [
    "To fill NA/NaN values using the specified value"
   ]
  },
  {
   "cell_type": "code",
   "execution_count": 22,
   "id": "0353d926",
   "metadata": {},
   "outputs": [],
   "source": [
    "cars_data['FuelType'].fillna(cars_data['FuelType'].value_counts().index[0],\n",
    "                             inplace=True)"
   ]
  },
  {
   "cell_type": "markdown",
   "id": "1b3b329d",
   "metadata": {},
   "source": [
    "## 5. Imputing missing values of ‘MetColor’"
   ]
  },
  {
   "cell_type": "markdown",
   "id": "77b38c0e",
   "metadata": {},
   "source": [
    "To get the mode value of MetColor"
   ]
  },
  {
   "cell_type": "code",
   "execution_count": 23,
   "id": "f250e4f7",
   "metadata": {},
   "outputs": [
    {
     "data": {
      "text/plain": [
       "0    1.0\n",
       "Name: MetColor, dtype: object"
      ]
     },
     "execution_count": 23,
     "metadata": {},
     "output_type": "execute_result"
    }
   ],
   "source": [
    "cars_data['MetColor'].mode()"
   ]
  },
  {
   "cell_type": "markdown",
   "id": "45847de4",
   "metadata": {},
   "source": [
    "To fill NA/NaN values using the specified value\n"
   ]
  },
  {
   "cell_type": "code",
   "execution_count": 24,
   "id": "01f3c6b0",
   "metadata": {},
   "outputs": [],
   "source": [
    "cars_data['MetColor'].fillna(cars_data['MetColor'].mode()[0],\n",
    "                             inplace=True)"
   ]
  },
  {
   "cell_type": "markdown",
   "id": "97347f8f",
   "metadata": {},
   "source": [
    "### Checking for missing values after filling values"
   ]
  },
  {
   "cell_type": "code",
   "execution_count": 25,
   "id": "892705c3",
   "metadata": {},
   "outputs": [
    {
     "data": {
      "text/plain": [
       "Price        0\n",
       "Age          0\n",
       "KM           0\n",
       "FuelType     0\n",
       "HP           0\n",
       "MetColor     0\n",
       "Automatic    0\n",
       "CC           0\n",
       "Doors        0\n",
       "Weight       0\n",
       "dtype: int64"
      ]
     },
     "execution_count": 25,
     "metadata": {},
     "output_type": "execute_result"
    }
   ],
   "source": [
    "cars_data.isnull().sum()"
   ]
  },
  {
   "cell_type": "code",
   "execution_count": null,
   "id": "1ac82545",
   "metadata": {},
   "outputs": [],
   "source": []
  },
  {
   "cell_type": "markdown",
   "id": "53630e95",
   "metadata": {},
   "source": [
    "## Imputing missing values using lambda functions"
   ]
  },
  {
   "cell_type": "markdown",
   "id": "b9695634",
   "metadata": {},
   "source": [
    "To fill the NA/ NaN values in both numerical and categorial variables at one stretch"
   ]
  },
  {
   "cell_type": "code",
   "execution_count": 26,
   "id": "baaab6c5",
   "metadata": {},
   "outputs": [],
   "source": [
    "cars_data2 = cars_data2.apply(lambda x:x.fillna(x.mean()) \\\n",
    "                              if x.dtype == 'float' else \\\n",
    "                              x.fillna(x.value_counts().index[0]))"
   ]
  },
  {
   "cell_type": "markdown",
   "id": "993435d4",
   "metadata": {},
   "source": [
    "Check for missing data after filling values"
   ]
  },
  {
   "cell_type": "code",
   "execution_count": 27,
   "id": "d4491811",
   "metadata": {},
   "outputs": [
    {
     "data": {
      "text/plain": [
       "Price        0\n",
       "Age          0\n",
       "KM           0\n",
       "FuelType     0\n",
       "HP           0\n",
       "MetColor     0\n",
       "Automatic    0\n",
       "CC           0\n",
       "Doors        0\n",
       "Weight       0\n",
       "dtype: int64"
      ]
     },
     "execution_count": 27,
     "metadata": {},
     "output_type": "execute_result"
    }
   ],
   "source": [
    "cars_data2.isnull().sum()"
   ]
  },
  {
   "cell_type": "code",
   "execution_count": null,
   "id": "36053142",
   "metadata": {},
   "outputs": [],
   "source": []
  },
  {
   "cell_type": "markdown",
   "id": "49d6acbf",
   "metadata": {},
   "source": [
    "## Saving cleaned data as a CSV file for further use"
   ]
  },
  {
   "cell_type": "code",
   "execution_count": 28,
   "id": "eb2b7713",
   "metadata": {},
   "outputs": [],
   "source": [
    "cars_data.to_csv('cleaned_cars_data.csv')"
   ]
  },
  {
   "cell_type": "code",
   "execution_count": null,
   "id": "e9af66ff",
   "metadata": {},
   "outputs": [],
   "source": []
  },
  {
   "cell_type": "code",
   "execution_count": null,
   "id": "df63199b",
   "metadata": {},
   "outputs": [],
   "source": []
  }
 ],
 "metadata": {
  "kernelspec": {
   "display_name": "Python 3 (ipykernel)",
   "language": "python",
   "name": "python3"
  },
  "language_info": {
   "codemirror_mode": {
    "name": "ipython",
    "version": 3
   },
   "file_extension": ".py",
   "mimetype": "text/x-python",
   "name": "python",
   "nbconvert_exporter": "python",
   "pygments_lexer": "ipython3",
   "version": "3.10.9"
  }
 },
 "nbformat": 4,
 "nbformat_minor": 5
}
