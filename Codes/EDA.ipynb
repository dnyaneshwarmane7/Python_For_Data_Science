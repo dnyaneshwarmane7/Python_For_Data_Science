{
 "cells": [
  {
   "cell_type": "markdown",
   "id": "6b3703cd",
   "metadata": {},
   "source": [
    "## Importing necessary libraries"
   ]
  },
  {
   "cell_type": "code",
   "execution_count": 1,
   "id": "36589a0f",
   "metadata": {},
   "outputs": [],
   "source": [
    "import os\n",
    "import pandas as pd\n",
    "import numpy as np\n",
    "import matplotlib.pyplot as plt\n",
    "import seaborn as sns"
   ]
  },
  {
   "cell_type": "markdown",
   "id": "c1b57787",
   "metadata": {},
   "source": [
    "##  Changing the working directory"
   ]
  },
  {
   "cell_type": "code",
   "execution_count": 2,
   "id": "379a99d8",
   "metadata": {},
   "outputs": [],
   "source": [
    "os.chdir(\"D:\\DM7\\Python for Data Science\\Data_Files\")"
   ]
  },
  {
   "cell_type": "markdown",
   "id": "3024b33c",
   "metadata": {},
   "source": [
    "## Importing data"
   ]
  },
  {
   "cell_type": "code",
   "execution_count": 3,
   "id": "c5cbe01c",
   "metadata": {},
   "outputs": [
    {
     "data": {
      "text/html": [
       "<div>\n",
       "<style scoped>\n",
       "    .dataframe tbody tr th:only-of-type {\n",
       "        vertical-align: middle;\n",
       "    }\n",
       "\n",
       "    .dataframe tbody tr th {\n",
       "        vertical-align: top;\n",
       "    }\n",
       "\n",
       "    .dataframe thead th {\n",
       "        text-align: right;\n",
       "    }\n",
       "</style>\n",
       "<table border=\"1\" class=\"dataframe\">\n",
       "  <thead>\n",
       "    <tr style=\"text-align: right;\">\n",
       "      <th></th>\n",
       "      <th>Price</th>\n",
       "      <th>Age</th>\n",
       "      <th>KM</th>\n",
       "      <th>FuelType</th>\n",
       "      <th>HP</th>\n",
       "      <th>MetColor</th>\n",
       "      <th>Automatic</th>\n",
       "      <th>CC</th>\n",
       "      <th>Doors</th>\n",
       "      <th>Weight</th>\n",
       "    </tr>\n",
       "  </thead>\n",
       "  <tbody>\n",
       "    <tr>\n",
       "      <th>0</th>\n",
       "      <td>13500</td>\n",
       "      <td>23.0</td>\n",
       "      <td>46986.0</td>\n",
       "      <td>Diesel</td>\n",
       "      <td>90.0</td>\n",
       "      <td>1.0</td>\n",
       "      <td>0</td>\n",
       "      <td>2000</td>\n",
       "      <td>3</td>\n",
       "      <td>1165</td>\n",
       "    </tr>\n",
       "    <tr>\n",
       "      <th>1</th>\n",
       "      <td>13750</td>\n",
       "      <td>23.0</td>\n",
       "      <td>72937.0</td>\n",
       "      <td>Diesel</td>\n",
       "      <td>90.0</td>\n",
       "      <td>1.0</td>\n",
       "      <td>0</td>\n",
       "      <td>2000</td>\n",
       "      <td>3</td>\n",
       "      <td>1165</td>\n",
       "    </tr>\n",
       "    <tr>\n",
       "      <th>2</th>\n",
       "      <td>13950</td>\n",
       "      <td>24.0</td>\n",
       "      <td>41711.0</td>\n",
       "      <td>Diesel</td>\n",
       "      <td>90.0</td>\n",
       "      <td>1.0</td>\n",
       "      <td>0</td>\n",
       "      <td>2000</td>\n",
       "      <td>3</td>\n",
       "      <td>1165</td>\n",
       "    </tr>\n",
       "    <tr>\n",
       "      <th>3</th>\n",
       "      <td>14950</td>\n",
       "      <td>26.0</td>\n",
       "      <td>48000.0</td>\n",
       "      <td>Diesel</td>\n",
       "      <td>90.0</td>\n",
       "      <td>0.0</td>\n",
       "      <td>0</td>\n",
       "      <td>2000</td>\n",
       "      <td>3</td>\n",
       "      <td>1165</td>\n",
       "    </tr>\n",
       "    <tr>\n",
       "      <th>4</th>\n",
       "      <td>13750</td>\n",
       "      <td>30.0</td>\n",
       "      <td>38500.0</td>\n",
       "      <td>Diesel</td>\n",
       "      <td>90.0</td>\n",
       "      <td>0.0</td>\n",
       "      <td>0</td>\n",
       "      <td>2000</td>\n",
       "      <td>3</td>\n",
       "      <td>1170</td>\n",
       "    </tr>\n",
       "  </tbody>\n",
       "</table>\n",
       "</div>"
      ],
      "text/plain": [
       "   Price   Age       KM FuelType    HP  MetColor  Automatic    CC  Doors  \\\n",
       "0  13500  23.0  46986.0   Diesel  90.0       1.0          0  2000      3   \n",
       "1  13750  23.0  72937.0   Diesel  90.0       1.0          0  2000      3   \n",
       "2  13950  24.0  41711.0   Diesel  90.0       1.0          0  2000      3   \n",
       "3  14950  26.0  48000.0   Diesel  90.0       0.0          0  2000      3   \n",
       "4  13750  30.0  38500.0   Diesel  90.0       0.0          0  2000      3   \n",
       "\n",
       "   Weight  \n",
       "0    1165  \n",
       "1    1165  \n",
       "2    1165  \n",
       "3    1165  \n",
       "4    1170  "
      ]
     },
     "execution_count": 3,
     "metadata": {},
     "output_type": "execute_result"
    }
   ],
   "source": [
    "cars_data = pd.read_csv('cleaned_cars_data.csv', index_col=0)\n",
    "cars_data.head()"
   ]
  },
  {
   "cell_type": "markdown",
   "id": "9dee7e66",
   "metadata": {},
   "source": [
    "## Frequency tables"
   ]
  },
  {
   "cell_type": "markdown",
   "id": "4a943e9c",
   "metadata": {},
   "source": [
    "pandas.crosstab()\n",
    "1. To compute a simple cross-tabulation of one, two (or more) factors\n",
    "2. By default computes a frequency table of the factors "
   ]
  },
  {
   "cell_type": "code",
   "execution_count": 4,
   "id": "3c9838f6",
   "metadata": {
    "scrolled": true
   },
   "outputs": [
    {
     "data": {
      "text/html": [
       "<div>\n",
       "<style scoped>\n",
       "    .dataframe tbody tr th:only-of-type {\n",
       "        vertical-align: middle;\n",
       "    }\n",
       "\n",
       "    .dataframe tbody tr th {\n",
       "        vertical-align: top;\n",
       "    }\n",
       "\n",
       "    .dataframe thead th {\n",
       "        text-align: right;\n",
       "    }\n",
       "</style>\n",
       "<table border=\"1\" class=\"dataframe\">\n",
       "  <thead>\n",
       "    <tr style=\"text-align: right;\">\n",
       "      <th>col_0</th>\n",
       "      <th>count</th>\n",
       "    </tr>\n",
       "    <tr>\n",
       "      <th>FuelType</th>\n",
       "      <th></th>\n",
       "    </tr>\n",
       "  </thead>\n",
       "  <tbody>\n",
       "    <tr>\n",
       "      <th>CNG</th>\n",
       "      <td>15</td>\n",
       "    </tr>\n",
       "    <tr>\n",
       "      <th>Diesel</th>\n",
       "      <td>144</td>\n",
       "    </tr>\n",
       "    <tr>\n",
       "      <th>Petrol</th>\n",
       "      <td>1277</td>\n",
       "    </tr>\n",
       "  </tbody>\n",
       "</table>\n",
       "</div>"
      ],
      "text/plain": [
       "col_0     count\n",
       "FuelType       \n",
       "CNG          15\n",
       "Diesel      144\n",
       "Petrol     1277"
      ]
     },
     "execution_count": 4,
     "metadata": {},
     "output_type": "execute_result"
    }
   ],
   "source": [
    "pd.crosstab(index=cars_data['FuelType'], columns='count', dropna=True)"
   ]
  },
  {
   "cell_type": "markdown",
   "id": "7e3f77ce",
   "metadata": {},
   "source": [
    "Most of the cars have petrol as fuel type"
   ]
  },
  {
   "cell_type": "code",
   "execution_count": null,
   "id": "22c88788",
   "metadata": {},
   "outputs": [],
   "source": []
  },
  {
   "cell_type": "markdown",
   "id": "2ad1f2c5",
   "metadata": {},
   "source": [
    "## Two way Table\n",
    "0. manual gear box\n",
    "1. Automatic Gear box"
   ]
  },
  {
   "cell_type": "markdown",
   "id": "b6ede0c5",
   "metadata": {},
   "source": [
    "To look at the frequency distribution of gearbox types \n",
    "with respect to different fuel types of the cars"
   ]
  },
  {
   "cell_type": "code",
   "execution_count": 5,
   "id": "34df1cb4",
   "metadata": {},
   "outputs": [
    {
     "data": {
      "text/html": [
       "<div>\n",
       "<style scoped>\n",
       "    .dataframe tbody tr th:only-of-type {\n",
       "        vertical-align: middle;\n",
       "    }\n",
       "\n",
       "    .dataframe tbody tr th {\n",
       "        vertical-align: top;\n",
       "    }\n",
       "\n",
       "    .dataframe thead th {\n",
       "        text-align: right;\n",
       "    }\n",
       "</style>\n",
       "<table border=\"1\" class=\"dataframe\">\n",
       "  <thead>\n",
       "    <tr style=\"text-align: right;\">\n",
       "      <th>FuelType</th>\n",
       "      <th>CNG</th>\n",
       "      <th>Diesel</th>\n",
       "      <th>Petrol</th>\n",
       "    </tr>\n",
       "    <tr>\n",
       "      <th>Automatic</th>\n",
       "      <th></th>\n",
       "      <th></th>\n",
       "      <th></th>\n",
       "    </tr>\n",
       "  </thead>\n",
       "  <tbody>\n",
       "    <tr>\n",
       "      <th>0</th>\n",
       "      <td>15</td>\n",
       "      <td>144</td>\n",
       "      <td>1197</td>\n",
       "    </tr>\n",
       "    <tr>\n",
       "      <th>1</th>\n",
       "      <td>0</td>\n",
       "      <td>0</td>\n",
       "      <td>80</td>\n",
       "    </tr>\n",
       "  </tbody>\n",
       "</table>\n",
       "</div>"
      ],
      "text/plain": [
       "FuelType   CNG  Diesel  Petrol\n",
       "Automatic                     \n",
       "0           15     144    1197\n",
       "1            0       0      80"
      ]
     },
     "execution_count": 5,
     "metadata": {},
     "output_type": "execute_result"
    }
   ],
   "source": [
    "pd.crosstab(index=cars_data['Automatic'], \n",
    "            columns=cars_data['FuelType'], \n",
    "            dropna=True)"
   ]
  },
  {
   "cell_type": "markdown",
   "id": "4d9a6b1d",
   "metadata": {},
   "source": [
    "## Two way Table - Joint Probability"
   ]
  },
  {
   "cell_type": "markdown",
   "id": "ad776a2d",
   "metadata": {},
   "source": [
    "Joint probability is the likelihood of two independent events \n",
    "happening at the same time"
   ]
  },
  {
   "cell_type": "code",
   "execution_count": 6,
   "id": "c5abeb39",
   "metadata": {},
   "outputs": [
    {
     "data": {
      "text/html": [
       "<div>\n",
       "<style scoped>\n",
       "    .dataframe tbody tr th:only-of-type {\n",
       "        vertical-align: middle;\n",
       "    }\n",
       "\n",
       "    .dataframe tbody tr th {\n",
       "        vertical-align: top;\n",
       "    }\n",
       "\n",
       "    .dataframe thead th {\n",
       "        text-align: right;\n",
       "    }\n",
       "</style>\n",
       "<table border=\"1\" class=\"dataframe\">\n",
       "  <thead>\n",
       "    <tr style=\"text-align: right;\">\n",
       "      <th>FuelType</th>\n",
       "      <th>CNG</th>\n",
       "      <th>Diesel</th>\n",
       "      <th>Petrol</th>\n",
       "    </tr>\n",
       "    <tr>\n",
       "      <th>Automatic</th>\n",
       "      <th></th>\n",
       "      <th></th>\n",
       "      <th></th>\n",
       "    </tr>\n",
       "  </thead>\n",
       "  <tbody>\n",
       "    <tr>\n",
       "      <th>0</th>\n",
       "      <td>0.010446</td>\n",
       "      <td>0.100279</td>\n",
       "      <td>0.833565</td>\n",
       "    </tr>\n",
       "    <tr>\n",
       "      <th>1</th>\n",
       "      <td>0.000000</td>\n",
       "      <td>0.000000</td>\n",
       "      <td>0.055710</td>\n",
       "    </tr>\n",
       "  </tbody>\n",
       "</table>\n",
       "</div>"
      ],
      "text/plain": [
       "FuelType        CNG    Diesel    Petrol\n",
       "Automatic                              \n",
       "0          0.010446  0.100279  0.833565\n",
       "1          0.000000  0.000000  0.055710"
      ]
     },
     "execution_count": 6,
     "metadata": {},
     "output_type": "execute_result"
    }
   ],
   "source": [
    "pd.crosstab(index=cars_data['Automatic'], \n",
    "            columns=cars_data['FuelType'], \n",
    "            normalize=True,\n",
    "            dropna=True)"
   ]
  },
  {
   "cell_type": "markdown",
   "id": "19a0c0a4",
   "metadata": {},
   "source": [
    "## Two-way table - marginal probability"
   ]
  },
  {
   "cell_type": "markdown",
   "id": "1e0e692b",
   "metadata": {},
   "source": [
    "Marginal probability is the probability of the occurrence of \n",
    "the single event"
   ]
  },
  {
   "cell_type": "code",
   "execution_count": 7,
   "id": "8a28a49e",
   "metadata": {},
   "outputs": [
    {
     "data": {
      "text/html": [
       "<div>\n",
       "<style scoped>\n",
       "    .dataframe tbody tr th:only-of-type {\n",
       "        vertical-align: middle;\n",
       "    }\n",
       "\n",
       "    .dataframe tbody tr th {\n",
       "        vertical-align: top;\n",
       "    }\n",
       "\n",
       "    .dataframe thead th {\n",
       "        text-align: right;\n",
       "    }\n",
       "</style>\n",
       "<table border=\"1\" class=\"dataframe\">\n",
       "  <thead>\n",
       "    <tr style=\"text-align: right;\">\n",
       "      <th>FuelType</th>\n",
       "      <th>CNG</th>\n",
       "      <th>Diesel</th>\n",
       "      <th>Petrol</th>\n",
       "      <th>All</th>\n",
       "    </tr>\n",
       "    <tr>\n",
       "      <th>Automatic</th>\n",
       "      <th></th>\n",
       "      <th></th>\n",
       "      <th></th>\n",
       "      <th></th>\n",
       "    </tr>\n",
       "  </thead>\n",
       "  <tbody>\n",
       "    <tr>\n",
       "      <th>0</th>\n",
       "      <td>0.010446</td>\n",
       "      <td>0.100279</td>\n",
       "      <td>0.833565</td>\n",
       "      <td>0.94429</td>\n",
       "    </tr>\n",
       "    <tr>\n",
       "      <th>1</th>\n",
       "      <td>0.000000</td>\n",
       "      <td>0.000000</td>\n",
       "      <td>0.055710</td>\n",
       "      <td>0.05571</td>\n",
       "    </tr>\n",
       "    <tr>\n",
       "      <th>All</th>\n",
       "      <td>0.010446</td>\n",
       "      <td>0.100279</td>\n",
       "      <td>0.889276</td>\n",
       "      <td>1.00000</td>\n",
       "    </tr>\n",
       "  </tbody>\n",
       "</table>\n",
       "</div>"
      ],
      "text/plain": [
       "FuelType        CNG    Diesel    Petrol      All\n",
       "Automatic                                       \n",
       "0          0.010446  0.100279  0.833565  0.94429\n",
       "1          0.000000  0.000000  0.055710  0.05571\n",
       "All        0.010446  0.100279  0.889276  1.00000"
      ]
     },
     "execution_count": 7,
     "metadata": {},
     "output_type": "execute_result"
    }
   ],
   "source": [
    "pd.crosstab(index=cars_data['Automatic'], \n",
    "            columns=cars_data['FuelType'],\n",
    "            margins=True,\n",
    "            normalize=True,\n",
    "            dropna=True)"
   ]
  },
  {
   "cell_type": "markdown",
   "id": "c9662267",
   "metadata": {},
   "source": [
    "probability of cars having manual \n",
    "gear box when the fuel type are \n",
    "CNG or Diesel or Petrol is 0.95\n"
   ]
  },
  {
   "cell_type": "code",
   "execution_count": null,
   "id": "d9996442",
   "metadata": {},
   "outputs": [],
   "source": []
  },
  {
   "cell_type": "markdown",
   "id": "d5b2cf7f",
   "metadata": {},
   "source": [
    "## Two-way table - conditional probability"
   ]
  },
  {
   "cell_type": "markdown",
   "id": "3bda349b",
   "metadata": {},
   "source": [
    "1. Conditional probability is the probability of an event ( A ), given that another event ( B ) has already occurred\n",
    "2. Given the type of gear box, probability of different fuel type"
   ]
  },
  {
   "cell_type": "code",
   "execution_count": 8,
   "id": "aa4039c9",
   "metadata": {},
   "outputs": [
    {
     "data": {
      "text/html": [
       "<div>\n",
       "<style scoped>\n",
       "    .dataframe tbody tr th:only-of-type {\n",
       "        vertical-align: middle;\n",
       "    }\n",
       "\n",
       "    .dataframe tbody tr th {\n",
       "        vertical-align: top;\n",
       "    }\n",
       "\n",
       "    .dataframe thead th {\n",
       "        text-align: right;\n",
       "    }\n",
       "</style>\n",
       "<table border=\"1\" class=\"dataframe\">\n",
       "  <thead>\n",
       "    <tr style=\"text-align: right;\">\n",
       "      <th>FuelType</th>\n",
       "      <th>CNG</th>\n",
       "      <th>Diesel</th>\n",
       "      <th>Petrol</th>\n",
       "    </tr>\n",
       "    <tr>\n",
       "      <th>Automatic</th>\n",
       "      <th></th>\n",
       "      <th></th>\n",
       "      <th></th>\n",
       "    </tr>\n",
       "  </thead>\n",
       "  <tbody>\n",
       "    <tr>\n",
       "      <th>0</th>\n",
       "      <td>0.011062</td>\n",
       "      <td>0.106195</td>\n",
       "      <td>0.882743</td>\n",
       "    </tr>\n",
       "    <tr>\n",
       "      <th>1</th>\n",
       "      <td>0.000000</td>\n",
       "      <td>0.000000</td>\n",
       "      <td>1.000000</td>\n",
       "    </tr>\n",
       "    <tr>\n",
       "      <th>All</th>\n",
       "      <td>0.010446</td>\n",
       "      <td>0.100279</td>\n",
       "      <td>0.889276</td>\n",
       "    </tr>\n",
       "  </tbody>\n",
       "</table>\n",
       "</div>"
      ],
      "text/plain": [
       "FuelType        CNG    Diesel    Petrol\n",
       "Automatic                              \n",
       "0          0.011062  0.106195  0.882743\n",
       "1          0.000000  0.000000  1.000000\n",
       "All        0.010446  0.100279  0.889276"
      ]
     },
     "execution_count": 8,
     "metadata": {},
     "output_type": "execute_result"
    }
   ],
   "source": [
    "pd.crosstab(index=cars_data['Automatic'], \n",
    "            columns=cars_data['FuelType'], \n",
    "            margins=True,\n",
    "            normalize='index',\n",
    "            dropna=True)"
   ]
  },
  {
   "cell_type": "code",
   "execution_count": 9,
   "id": "7ec0724c",
   "metadata": {},
   "outputs": [
    {
     "data": {
      "text/html": [
       "<div>\n",
       "<style scoped>\n",
       "    .dataframe tbody tr th:only-of-type {\n",
       "        vertical-align: middle;\n",
       "    }\n",
       "\n",
       "    .dataframe tbody tr th {\n",
       "        vertical-align: top;\n",
       "    }\n",
       "\n",
       "    .dataframe thead th {\n",
       "        text-align: right;\n",
       "    }\n",
       "</style>\n",
       "<table border=\"1\" class=\"dataframe\">\n",
       "  <thead>\n",
       "    <tr style=\"text-align: right;\">\n",
       "      <th>FuelType</th>\n",
       "      <th>CNG</th>\n",
       "      <th>Diesel</th>\n",
       "      <th>Petrol</th>\n",
       "      <th>All</th>\n",
       "    </tr>\n",
       "    <tr>\n",
       "      <th>Automatic</th>\n",
       "      <th></th>\n",
       "      <th></th>\n",
       "      <th></th>\n",
       "      <th></th>\n",
       "    </tr>\n",
       "  </thead>\n",
       "  <tbody>\n",
       "    <tr>\n",
       "      <th>0</th>\n",
       "      <td>1.0</td>\n",
       "      <td>1.0</td>\n",
       "      <td>0.937353</td>\n",
       "      <td>0.94429</td>\n",
       "    </tr>\n",
       "    <tr>\n",
       "      <th>1</th>\n",
       "      <td>0.0</td>\n",
       "      <td>0.0</td>\n",
       "      <td>0.062647</td>\n",
       "      <td>0.05571</td>\n",
       "    </tr>\n",
       "  </tbody>\n",
       "</table>\n",
       "</div>"
      ],
      "text/plain": [
       "FuelType   CNG  Diesel    Petrol      All\n",
       "Automatic                                \n",
       "0          1.0     1.0  0.937353  0.94429\n",
       "1          0.0     0.0  0.062647  0.05571"
      ]
     },
     "execution_count": 9,
     "metadata": {},
     "output_type": "execute_result"
    }
   ],
   "source": [
    "pd.crosstab(index=cars_data['Automatic'], \n",
    "            columns=cars_data['FuelType'], \n",
    "            margins=True,\n",
    "            normalize='columns',\n",
    "            dropna=True)"
   ]
  },
  {
   "cell_type": "markdown",
   "id": "5f3b4988",
   "metadata": {},
   "source": [
    "## Correlation"
   ]
  },
  {
   "cell_type": "markdown",
   "id": "fba8cded",
   "metadata": {},
   "source": [
    "Correlation: the strength of association \n",
    "between two variables"
   ]
  },
  {
   "cell_type": "markdown",
   "id": "39351dae",
   "metadata": {},
   "source": [
    "1. To compute pairwise correlation of columns excluding NA/null values\n",
    "2. Excluding the categorical variables to find the Pearson’s correlation"
   ]
  },
  {
   "cell_type": "code",
   "execution_count": 10,
   "id": "d4605ca4",
   "metadata": {},
   "outputs": [],
   "source": [
    "numerical_data = cars_data.select_dtypes(exclude=[object])"
   ]
  },
  {
   "cell_type": "markdown",
   "id": "5fb169f3",
   "metadata": {},
   "source": [
    "Let’ s check the no. of variables available under numerical_data"
   ]
  },
  {
   "cell_type": "code",
   "execution_count": 11,
   "id": "f56a792a",
   "metadata": {},
   "outputs": [
    {
     "name": "stdout",
     "output_type": "stream",
     "text": [
      "(1436, 9)\n"
     ]
    }
   ],
   "source": [
    "print(numerical_data.shape)"
   ]
  },
  {
   "cell_type": "markdown",
   "id": "52c9f2ae",
   "metadata": {},
   "source": [
    "Correlation between numerical variables"
   ]
  },
  {
   "cell_type": "code",
   "execution_count": 12,
   "id": "c190c4c9",
   "metadata": {},
   "outputs": [
    {
     "data": {
      "text/html": [
       "<div>\n",
       "<style scoped>\n",
       "    .dataframe tbody tr th:only-of-type {\n",
       "        vertical-align: middle;\n",
       "    }\n",
       "\n",
       "    .dataframe tbody tr th {\n",
       "        vertical-align: top;\n",
       "    }\n",
       "\n",
       "    .dataframe thead th {\n",
       "        text-align: right;\n",
       "    }\n",
       "</style>\n",
       "<table border=\"1\" class=\"dataframe\">\n",
       "  <thead>\n",
       "    <tr style=\"text-align: right;\">\n",
       "      <th></th>\n",
       "      <th>Price</th>\n",
       "      <th>Age</th>\n",
       "      <th>KM</th>\n",
       "      <th>HP</th>\n",
       "      <th>MetColor</th>\n",
       "      <th>Automatic</th>\n",
       "      <th>CC</th>\n",
       "      <th>Doors</th>\n",
       "      <th>Weight</th>\n",
       "    </tr>\n",
       "  </thead>\n",
       "  <tbody>\n",
       "    <tr>\n",
       "      <th>Price</th>\n",
       "      <td>1.000000</td>\n",
       "      <td>-0.845111</td>\n",
       "      <td>-0.565926</td>\n",
       "      <td>0.308414</td>\n",
       "      <td>0.100920</td>\n",
       "      <td>0.033081</td>\n",
       "      <td>0.165067</td>\n",
       "      <td>0.185326</td>\n",
       "      <td>0.581198</td>\n",
       "    </tr>\n",
       "    <tr>\n",
       "      <th>Age</th>\n",
       "      <td>-0.845111</td>\n",
       "      <td>1.000000</td>\n",
       "      <td>0.495609</td>\n",
       "      <td>-0.152946</td>\n",
       "      <td>-0.084719</td>\n",
       "      <td>0.030931</td>\n",
       "      <td>-0.116255</td>\n",
       "      <td>-0.151785</td>\n",
       "      <td>-0.442055</td>\n",
       "    </tr>\n",
       "    <tr>\n",
       "      <th>KM</th>\n",
       "      <td>-0.565926</td>\n",
       "      <td>0.495609</td>\n",
       "      <td>1.000000</td>\n",
       "      <td>-0.332297</td>\n",
       "      <td>-0.088657</td>\n",
       "      <td>-0.080803</td>\n",
       "      <td>0.296305</td>\n",
       "      <td>-0.035771</td>\n",
       "      <td>-0.026476</td>\n",
       "    </tr>\n",
       "    <tr>\n",
       "      <th>HP</th>\n",
       "      <td>0.308414</td>\n",
       "      <td>-0.152946</td>\n",
       "      <td>-0.332297</td>\n",
       "      <td>1.000000</td>\n",
       "      <td>0.058166</td>\n",
       "      <td>0.013753</td>\n",
       "      <td>0.053466</td>\n",
       "      <td>0.096938</td>\n",
       "      <td>0.086214</td>\n",
       "    </tr>\n",
       "    <tr>\n",
       "      <th>MetColor</th>\n",
       "      <td>0.100920</td>\n",
       "      <td>-0.084719</td>\n",
       "      <td>-0.088657</td>\n",
       "      <td>0.058166</td>\n",
       "      <td>1.000000</td>\n",
       "      <td>-0.011450</td>\n",
       "      <td>0.032108</td>\n",
       "      <td>0.065953</td>\n",
       "      <td>0.046614</td>\n",
       "    </tr>\n",
       "    <tr>\n",
       "      <th>Automatic</th>\n",
       "      <td>0.033081</td>\n",
       "      <td>0.030931</td>\n",
       "      <td>-0.080803</td>\n",
       "      <td>0.013753</td>\n",
       "      <td>-0.011450</td>\n",
       "      <td>1.000000</td>\n",
       "      <td>-0.069321</td>\n",
       "      <td>-0.027654</td>\n",
       "      <td>0.057249</td>\n",
       "    </tr>\n",
       "    <tr>\n",
       "      <th>CC</th>\n",
       "      <td>0.165067</td>\n",
       "      <td>-0.116255</td>\n",
       "      <td>0.296305</td>\n",
       "      <td>0.053466</td>\n",
       "      <td>0.032108</td>\n",
       "      <td>-0.069321</td>\n",
       "      <td>1.000000</td>\n",
       "      <td>0.126768</td>\n",
       "      <td>0.651450</td>\n",
       "    </tr>\n",
       "    <tr>\n",
       "      <th>Doors</th>\n",
       "      <td>0.185326</td>\n",
       "      <td>-0.151785</td>\n",
       "      <td>-0.035771</td>\n",
       "      <td>0.096938</td>\n",
       "      <td>0.065953</td>\n",
       "      <td>-0.027654</td>\n",
       "      <td>0.126768</td>\n",
       "      <td>1.000000</td>\n",
       "      <td>0.302618</td>\n",
       "    </tr>\n",
       "    <tr>\n",
       "      <th>Weight</th>\n",
       "      <td>0.581198</td>\n",
       "      <td>-0.442055</td>\n",
       "      <td>-0.026476</td>\n",
       "      <td>0.086214</td>\n",
       "      <td>0.046614</td>\n",
       "      <td>0.057249</td>\n",
       "      <td>0.651450</td>\n",
       "      <td>0.302618</td>\n",
       "      <td>1.000000</td>\n",
       "    </tr>\n",
       "  </tbody>\n",
       "</table>\n",
       "</div>"
      ],
      "text/plain": [
       "              Price       Age        KM        HP  MetColor  Automatic  \\\n",
       "Price      1.000000 -0.845111 -0.565926  0.308414  0.100920   0.033081   \n",
       "Age       -0.845111  1.000000  0.495609 -0.152946 -0.084719   0.030931   \n",
       "KM        -0.565926  0.495609  1.000000 -0.332297 -0.088657  -0.080803   \n",
       "HP         0.308414 -0.152946 -0.332297  1.000000  0.058166   0.013753   \n",
       "MetColor   0.100920 -0.084719 -0.088657  0.058166  1.000000  -0.011450   \n",
       "Automatic  0.033081  0.030931 -0.080803  0.013753 -0.011450   1.000000   \n",
       "CC         0.165067 -0.116255  0.296305  0.053466  0.032108  -0.069321   \n",
       "Doors      0.185326 -0.151785 -0.035771  0.096938  0.065953  -0.027654   \n",
       "Weight     0.581198 -0.442055 -0.026476  0.086214  0.046614   0.057249   \n",
       "\n",
       "                 CC     Doors    Weight  \n",
       "Price      0.165067  0.185326  0.581198  \n",
       "Age       -0.116255 -0.151785 -0.442055  \n",
       "KM         0.296305 -0.035771 -0.026476  \n",
       "HP         0.053466  0.096938  0.086214  \n",
       "MetColor   0.032108  0.065953  0.046614  \n",
       "Automatic -0.069321 -0.027654  0.057249  \n",
       "CC         1.000000  0.126768  0.651450  \n",
       "Doors      0.126768  1.000000  0.302618  \n",
       "Weight     0.651450  0.302618  1.000000  "
      ]
     },
     "execution_count": 12,
     "metadata": {},
     "output_type": "execute_result"
    }
   ],
   "source": [
    "corr_matrix = numerical_data.corr() \n",
    "corr_matrix"
   ]
  },
  {
   "cell_type": "markdown",
   "id": "74599891",
   "metadata": {},
   "source": [
    "## Plotting heatmap for correlation"
   ]
  },
  {
   "cell_type": "code",
   "execution_count": 13,
   "id": "f88f6ce7",
   "metadata": {},
   "outputs": [
    {
     "data": {
      "text/plain": [
       "Text(0.5, 1.0, 'Heatmap of correlation of numerical data')"
      ]
     },
     "execution_count": 13,
     "metadata": {},
     "output_type": "execute_result"
    },
    {
     "data": {
      "image/png": "[encoded data removed]",
      "text/plain": [
       "<Figure size 1000x600 with 2 Axes>"
      ]
     },
     "metadata": {},
     "output_type": "display_data"
    }
   ],
   "source": [
    "plt.figure(figsize=[10, 6])\n",
    "sns.heatmap(corr_matrix)\n",
    "plt.title('Heatmap of correlation of numerical data')"
   ]
  },
  {
   "cell_type": "code",
   "execution_count": null,
   "id": "ba650799",
   "metadata": {},
   "outputs": [],
   "source": []
  }
 ],
 "metadata": {
  "kernelspec": {
   "display_name": "Python 3 (ipykernel)",
   "language": "python",
   "name": "python3"
  },
  "language_info": {
   "codemirror_mode": {
    "name": "ipython",
    "version": 3
   },
   "file_extension": ".py",
   "mimetype": "text/x-python",
   "name": "python",
   "nbconvert_exporter": "python",
   "pygments_lexer": "ipython3",
   "version": "3.10.9"
  }
 },
 "nbformat": 4,
 "nbformat_minor": 5
}
